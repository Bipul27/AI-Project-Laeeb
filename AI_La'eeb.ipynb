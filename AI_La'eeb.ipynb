{
  "cells": [
    {
      "cell_type": "markdown",
      "metadata": {
        "id": "view-in-github",
        "colab_type": "text"
      },
      "source": [
        "<a href=\"https://colab.research.google.com/github/S-K-Sami/AI-Project-Laeeb/blob/master/AI_La'eeb.ipynb\" target=\"_parent\"><img src=\"https://colab.research.google.com/assets/colab-badge.svg\" alt=\"Open In Colab\"/></a>"
      ]
    },
    {
      "cell_type": "code",
      "execution_count": null,
      "metadata": {
        "id": "eOYkgaC2T0fy"
      },
      "outputs": [],
      "source": [
        "# !chmod 600 /content/kaggle.json\n",
        "# %env KAGGLE_CONFIG_DIR=/content\n",
        "# !kaggle datasets download -d aryarishabh/hand-gesture-recognition-dataset\n",
        "# !unzip -q hand-gesture-recognition-dataset.zip\n",
        "# !mkdir Dataset\n",
        "# !mv ./train/train ./Dataset\n",
        "# !mv ./test/test ./Dataset\n",
        "# !rmdir ./train\n",
        "# !rmdir ./test\n",
        "# !rm ./hand-gesture-recognition-dataset.zip"
      ]
    },
    {
      "cell_type": "code",
      "execution_count": null,
      "metadata": {
        "id": "RBsBxy77IyzO"
      },
      "outputs": [],
      "source": [
        "import tensorflow as tf;\n",
        "\n",
        "import numpy as np;\n",
        "import matplotlib.pyplot as plt;"
      ]
    },
    {
      "cell_type": "code",
      "execution_count": null,
      "metadata": {
        "id": "uanOuajtIyzW"
      },
      "outputs": [],
      "source": [
        "tf.keras.utils.set_random_seed(42);\n",
        "vgg16 = tf.keras.applications.vgg16.VGG16(weights='imagenet', include_top=False, input_shape=(50, 50, 3), pooling=\"max\")\n",
        "# vgg16.summary()"
      ]
    },
    {
      "cell_type": "code",
      "execution_count": null,
      "metadata": {
        "colab": {
          "base_uri": "https://localhost:8080/"
        },
        "id": "kzjty2JKIyzY",
        "outputId": "e29c6a28-e4b4-4c3c-db38-f0827330aa72"
      },
      "outputs": [
        {
          "name": "stdout",
          "output_type": "stream",
          "text": [
            "Found 18000 files belonging to 20 classes.\n",
            "Found 6000 files belonging to 20 classes.\n"
          ]
        },
        {
          "data": {
            "text/plain": [
              "(<BatchDataset element_spec=(TensorSpec(shape=(None, 50, 50, 3), dtype=tf.float32, name=None), TensorSpec(shape=(None, 20), dtype=tf.float32, name=None))>,\n",
              " <BatchDataset element_spec=(TensorSpec(shape=(None, 50, 50, 3), dtype=tf.float32, name=None), TensorSpec(shape=(None, 20), dtype=tf.float32, name=None))>)"
            ]
          },
          "execution_count": 24,
          "metadata": {},
          "output_type": "execute_result"
        }
      ],
      "source": [
        "bs = 64;\n",
        "train_ds = tf.keras.utils.image_dataset_from_directory(\"./Dataset/train/\", label_mode=\"categorical\", batch_size=bs, image_size=(50, 50), shuffle=True);\n",
        "test_ds = tf.keras.utils.image_dataset_from_directory(\"./Dataset/test/\", label_mode=\"categorical\", batch_size=bs, image_size=(50, 50), shuffle=True);\n",
        "\n",
        "train_ds, test_ds"
      ]
    },
    {
      "cell_type": "code",
      "execution_count": null,
      "metadata": {
        "colab": {
          "base_uri": "https://localhost:8080/"
        },
        "id": "dwtial0WIyzZ",
        "outputId": "a7875888-ff04-4f09-dbde-984568ba7554"
      },
      "outputs": [
        {
          "data": {
            "text/plain": [
              "(<ParallelMapDataset element_spec=(TensorSpec(shape=(None, 50, 50, 3), dtype=tf.uint8, name=None), TensorSpec(shape=(None, 20), dtype=tf.float32, name=None))>,\n",
              " <ParallelMapDataset element_spec=(TensorSpec(shape=(None, 50, 50, 3), dtype=tf.uint8, name=None), TensorSpec(shape=(None, 20), dtype=tf.float32, name=None))>)"
            ]
          },
          "execution_count": 25,
          "metadata": {},
          "output_type": "execute_result"
        }
      ],
      "source": [
        "def map_func(image, label):\n",
        "    image = tf.cast(image, tf.uint8);\n",
        "    image = tf.keras.applications.vgg16.preprocess_input(image);\n",
        "    return (image, label);\n",
        "train_ds = train_ds.map(map_func, num_parallel_calls=tf.data.AUTOTUNE, deterministic=False);\n",
        "test_ds = test_ds.map(map_func, num_parallel_calls=tf.data.AUTOTUNE, deterministic=False);\n",
        "val_ds = test_ds.take(.8*6000//bs)\n",
        "test_ds = test_ds.skip(.8*6000//bs)\n",
        "train_ds, test_ds"
      ]
    },
    {
      "cell_type": "code",
      "execution_count": null,
      "metadata": {
        "colab": {
          "base_uri": "https://localhost:8080/"
        },
        "id": "aZZJWMEwIyza",
        "outputId": "865748ee-6d52-4f92-eece-8c5a1bf078c8"
      },
      "outputs": [
        {
          "data": {
            "text/plain": [
              "<tf.Tensor: shape=(), dtype=int64, numpy=3>"
            ]
          },
          "execution_count": 6,
          "metadata": {},
          "output_type": "execute_result"
        }
      ],
      "source": [
        "sample = train_ds.take(3);\n",
        "sample.cardinality()"
      ]
    },
    {
      "cell_type": "code",
      "execution_count": null,
      "metadata": {
        "colab": {
          "base_uri": "https://localhost:8080/",
          "height": 267
        },
        "id": "oibF8YL5Iyzb",
        "outputId": "c99b4ca5-d382-470e-ad15-b204013392ea"
      },
      "outputs": [
        {
          "data": {
            "image/png": "[encoded data removed]",
            "text/plain": [
              "<Figure size 432x288 with 1 Axes>"
            ]
          },
          "metadata": {
            "needs_background": "light"
          },
          "output_type": "display_data"
        }
      ],
      "source": [
        "img = next(iter(sample))[0][0];\n",
        "plt.imshow(img);"
      ]
    },
    {
      "cell_type": "code",
      "execution_count": null,
      "metadata": {
        "colab": {
          "base_uri": "https://localhost:8080/"
        },
        "id": "Twc7lBImIyzc",
        "outputId": "4fbbc1c3-1f30-42cb-fe2e-54e251a94654"
      },
      "outputs": [
        {
          "name": "stdout",
          "output_type": "stream",
          "text": [
            "3/3 [==============================] - 5s 16ms/step\n"
          ]
        },
        {
          "data": {
            "text/plain": [
              "(192, 512)"
            ]
          },
          "execution_count": 8,
          "metadata": {},
          "output_type": "execute_result"
        }
      ],
      "source": [
        "features = vgg16.predict(sample);\n",
        "features.shape"
      ]
    },
    {
      "cell_type": "code",
      "execution_count": null,
      "metadata": {
        "id": "QWdoVz7AIyzd"
      },
      "outputs": [],
      "source": [
        "x = vgg16.output;\n",
        "x = tf.keras.layers.Dense(1024, activation=\"relu\")(x);\n",
        "preds = tf.keras.layers.Dense(20, activation=\"softmax\")(x);\n",
        "\n",
        "laeeb = tf.keras.models.Model(inputs=vgg16.input, outputs=preds);\n",
        "# laeeb.summary()\n",
        "\n",
        "# TRY: replacing this loop with vgg16.trainable=False\n",
        "for layer in vgg16.layers:\n",
        "    layer.trainable = False;"
      ]
    },
    {
      "cell_type": "code",
      "execution_count": null,
      "metadata": {
        "id": "_GSuMQQoIyzf"
      },
      "outputs": [],
      "source": [
        "laeeb.compile(optimizer=tf.keras.optimizers.Adam(), loss=tf.keras.losses.CategoricalCrossentropy(), metrics=[tf.keras.metrics.BinaryAccuracy()]);"
      ]
    },
    {
      "cell_type": "code",
      "execution_count": null,
      "metadata": {
        "colab": {
          "base_uri": "https://localhost:8080/"
        },
        "id": "WWLnJwIPIyzg",
        "outputId": "37547a1d-db6c-4930-eeb4-c858df8a8adb"
      },
      "outputs": [
        {
          "name": "stdout",
          "output_type": "stream",
          "text": [
            "Epoch 1/8\n",
            "282/282 [==============================] - 11s 38ms/step - loss: 0.7955\n",
            "Epoch 2/8\n",
            "282/282 [==============================] - 11s 39ms/step - loss: 0.3076\n",
            "Epoch 3/8\n",
            "282/282 [==============================] - 11s 37ms/step - loss: 0.2287\n",
            "Epoch 4/8\n",
            "282/282 [==============================] - 10s 35ms/step - loss: 0.1980\n",
            "Epoch 5/8\n",
            "282/282 [==============================] - 11s 39ms/step - loss: 0.1598\n",
            "Epoch 6/8\n",
            "282/282 [==============================] - 11s 40ms/step - loss: 0.1383\n",
            "Epoch 7/8\n",
            "282/282 [==============================] - 11s 39ms/step - loss: 0.1264\n",
            "Epoch 8/8\n",
            "282/282 [==============================] - 11s 37ms/step - loss: 0.1089\n"
          ]
        },
        {
          "data": {
            "text/plain": [
              "{'verbose': 1, 'epochs': 8, 'steps': 282}"
            ]
          },
          "execution_count": 30,
          "metadata": {},
          "output_type": "execute_result"
        }
      ],
      "source": [
        "history = laeeb.fit(train_ds, validation_data=val_ds, epochs=8);\n",
        "# history = laeeb.fit(sample, epochs=2);\n",
        "history.params"
      ]
    },
    {
      "cell_type": "code",
      "execution_count": null,
      "metadata": {
        "colab": {
          "base_uri": "https://localhost:8080/",
          "height": 265
        },
        "id": "e2kzE53-F7GI",
        "outputId": "80ad05ce-dd96-4e90-b398-89a6ce627e38"
      },
      "outputs": [
        {
          "data": {
            "image/png": "[encoded data removed]",
            "text/plain": [
              "<Figure size 432x288 with 1 Axes>"
            ]
          },
          "metadata": {
            "needs_background": "light"
          },
          "output_type": "display_data"
        }
      ],
      "source": [
        "plt.plot(history.history[\"loss\"]);"
      ]
    },
    {
      "cell_type": "code",
      "execution_count": null,
      "metadata": {
        "colab": {
          "base_uri": "https://localhost:8080/"
        },
        "id": "Xpaxf5nvIyzh",
        "outputId": "657ac21e-c13d-4f34-bfc5-1f70036cea69"
      },
      "outputs": [
        {
          "name": "stdout",
          "output_type": "stream",
          "text": [
            "94/94 [==============================] - 4s 36ms/step - loss: 0.2968\n"
          ]
        },
        {
          "data": {
            "text/plain": [
              "0.29678604006767273"
            ]
          },
          "execution_count": 32,
          "metadata": {},
          "output_type": "execute_result"
        }
      ],
      "source": [
        "laeeb.evaluate(test_ds)\n",
        "# laeeb.evaluate(test_ds.take(3))"
      ]
    },
    {
      "cell_type": "code",
      "execution_count": null,
      "metadata": {
        "id": "f6vW9L_2ZR6X"
      },
      "outputs": [],
      "source": [
        "# loss for 32 epochs\n",
        "# plt.plot([0.7737, 0.3096, 0.2249, 0.1777, 0.1590, 0.1474, 0.1281, 0.1220, 0.1191, 0.1130, 0.0959, 0.1176, 0.1003, 0.0835, 0.0876, 0.0763, 0.0787, 0.0744, 0.0823, 0.0817, 0.0580, 0.0587, 0.0624, 0.0631, 0.0534, 0.0695, 0.0659, 0.0437, 0.0400, 0.0435, 0.0675, 0.0398])"
      ]
    },
    {
      "cell_type": "code",
      "execution_count": null,
      "metadata": {
        "colab": {
          "base_uri": "https://localhost:8080/"
        },
        "id": "9gzWbBMFPH8X",
        "outputId": "755ff149-5450-4fce-b505-030cab1d1cfc"
      },
      "outputs": [
        {
          "name": "stdout",
          "output_type": "stream",
          "text": [
            "0 input_3\n",
            "1 block1_conv1\n",
            "2 block1_conv2\n",
            "3 block1_pool\n",
            "4 block2_conv1\n",
            "5 block2_conv2\n",
            "6 block2_pool\n",
            "7 block3_conv1\n",
            "8 block3_conv2\n",
            "9 block3_conv3\n",
            "10 block3_pool\n",
            "11 block4_conv1\n",
            "12 block4_conv2\n",
            "13 block4_conv3\n",
            "14 block4_pool\n",
            "15 block5_conv1\n",
            "16 block5_conv2\n",
            "17 block5_conv3\n",
            "18 block5_pool\n",
            "19 global_max_pooling2d_1\n"
          ]
        }
      ],
      "source": [
        "for i, layer in enumerate(vgg16.layers):\n",
        "  print(i, layer.name);"
      ]
    },
    {
      "cell_type": "code",
      "execution_count": null,
      "metadata": {
        "id": "SqFmv_EKPvC2"
      },
      "outputs": [],
      "source": [
        "for layer in laeeb.layers[:15]:\n",
        "  layer.trainable = False;\n",
        "for layer in laeeb.layers[15:]:\n",
        "  layer.trainable = True;\n",
        "\n",
        "laeeb.compile(optimizer=tf.keras.optimizers.SGD(learning_rate=0.0001, momentum=0.9), loss=tf.keras.losses.CategoricalCrossentropy(), metrics=[tf.keras.metrics.BinaryAccuracy()]);"
      ]
    },
    {
      "cell_type": "code",
      "execution_count": null,
      "metadata": {
        "colab": {
          "base_uri": "https://localhost:8080/"
        },
        "id": "Yi9MSK2dUEBI",
        "outputId": "6ec7944b-c1d1-4e71-d4d4-c8c3358da3ba"
      },
      "outputs": [
        {
          "name": "stdout",
          "output_type": "stream",
          "text": [
            "Epoch 1/4\n",
            "282/282 [==============================] - 11s 32ms/step - loss: 0.2097\n",
            "Epoch 2/4\n",
            "282/282 [==============================] - 9s 31ms/step - loss: 0.0390\n",
            "Epoch 3/4\n",
            "282/282 [==============================] - 9s 32ms/step - loss: 0.0112\n",
            "Epoch 4/4\n",
            "282/282 [==============================] - 9s 32ms/step - loss: 0.0087\n"
          ]
        },
        {
          "data": {
            "text/plain": [
              "{'verbose': 1, 'epochs': 4, 'steps': 282}"
            ]
          },
          "execution_count": 36,
          "metadata": {},
          "output_type": "execute_result"
        }
      ],
      "source": [
        "history = laeeb.fit(train_ds, validation_data=val_ds, epochs=4);\n",
        "# history = laeeb.fit(sample, epochs=2);\n",
        "history.params"
      ]
    },
    {
      "cell_type": "code",
      "execution_count": null,
      "metadata": {
        "colab": {
          "base_uri": "https://localhost:8080/"
        },
        "id": "Xx0VVfBOUdUI",
        "outputId": "55d3b46a-900e-4481-851a-26b3a473f463"
      },
      "outputs": [
        {
          "name": "stdout",
          "output_type": "stream",
          "text": [
            "94/94 [==============================] - 3s 24ms/step - loss: 0.0698\n"
          ]
        }
      ],
      "source": [
        "laeeb.evaluate(test_ds);"
      ]
    }
  ],
  "metadata": {
    "accelerator": "GPU",
    "colab": {
      "provenance": [],
      "include_colab_link": true
    },
    "gpuClass": "standard",
    "kernelspec": {
      "display_name": "Python 3.8.10 64-bit",
      "language": "python",
      "name": "python3"
    },
    "language_info": {
      "codemirror_mode": {
        "name": "ipython",
        "version": 3
      },
      "file_extension": ".py",
      "mimetype": "text/x-python",
      "name": "python",
      "nbconvert_exporter": "python",
      "pygments_lexer": "ipython3",
      "version": "3.8.10"
    },
    "orig_nbformat": 4,
    "vscode": {
      "interpreter": {
        "hash": "fd6c014c9130c2ca28e508cbd320e5ee7127f51793d21ce8d03443646cef9b7a"
      }
    }
  },
  "nbformat": 4,
  "nbformat_minor": 0
}