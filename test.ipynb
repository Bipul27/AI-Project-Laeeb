{
 "cells": [
  {
   "cell_type": "code",
   "execution_count": 1,
   "metadata": {},
   "outputs": [],
   "source": [
    "import numpy as np;\n",
    "import tensorflow as tf;\n",
    "from scipy.special import softmax;\n",
    "from matplotlib import pyplot as plt;"
   ]
  },
  {
   "cell_type": "code",
   "execution_count": 5,
   "metadata": {},
   "outputs": [],
   "source": [
    "bs = 64;\n",
    "laeeb = tf.keras.models.load_model(\"./laeeb/\");\n",
    "\n",
    "def map_func(image, label):\n",
    "    image = tf.cast(image, tf.uint8);\n",
    "    image = tf.keras.applications.vgg16.preprocess_input(image);\n",
    "    return (image, label);"
   ]
  },
  {
   "cell_type": "code",
   "execution_count": 3,
   "metadata": {},
   "outputs": [
    {
     "name": "stdout",
     "output_type": "stream",
     "text": [
      "Found 6000 files belonging to 20 classes.\n"
     ]
    }
   ],
   "source": [
    "test_ds = tf.keras.utils.image_dataset_from_directory(\"./Dataset/test/\", label_mode=\"categorical\", batch_size=bs, image_size=(50, 50), shuffle=False);\n",
    "test_ds = test_ds.map(map_func, num_parallel_calls=tf.data.AUTOTUNE, deterministic=False);"
   ]
  },
  {
   "cell_type": "code",
   "execution_count": 17,
   "metadata": {},
   "outputs": [
    {
     "name": "stdout",
     "output_type": "stream",
     "text": [
      "94/94 [==============================] - 162s 2s/step - loss: 0.0540 - binary_accuracy: 0.9984\n"
     ]
    },
    {
     "data": {
      "text/plain": [
       "[0.053975529968738556, 0.998408317565918]"
      ]
     },
     "execution_count": 17,
     "metadata": {},
     "output_type": "execute_result"
    }
   ],
   "source": [
    "laeeb.evaluate(test_ds)"
   ]
  },
  {
   "cell_type": "code",
   "execution_count": 18,
   "metadata": {},
   "outputs": [
    {
     "name": "stdout",
     "output_type": "stream",
     "text": [
      "94/94 [==============================] - 173s 2s/step\n"
     ]
    }
   ],
   "source": [
    "pred = laeeb.predict(test_ds);"
   ]
  },
  {
   "cell_type": "code",
   "execution_count": 23,
   "metadata": {},
   "outputs": [
    {
     "data": {
      "text/plain": [
       "[<matplotlib.lines.Line2D at 0x156bf9cdfd0>]"
      ]
     },
     "execution_count": 23,
     "metadata": {},
     "output_type": "execute_result"
    },
    {
     "data": {
      "image/png": "[encoded data removed]",
      "text/plain": [
       "<Figure size 640x480 with 1 Axes>"
      ]
     },
     "metadata": {},
     "output_type": "display_data"
    }
   ],
   "source": [
    "plt.yticks(range(20))\n",
    "plt.plot(np.argmax(pred, axis=1))"
   ]
  },
  {
   "cell_type": "code",
   "execution_count": 14,
   "metadata": {},
   "outputs": [
    {
     "name": "stdout",
     "output_type": "stream",
     "text": [
      "Found 4 files belonging to 20 classes.\n"
     ]
    }
   ],
   "source": [
    "man_test = tf.keras.utils.image_dataset_from_directory(\"./demo_data/mask/\", label_mode=\"categorical\", batch_size=bs, image_size=(50, 50), shuffle=False);\n",
    "man_test = man_test.map(map_func, num_parallel_calls=tf.data.AUTOTUNE, deterministic=False);"
   ]
  },
  {
   "cell_type": "code",
   "execution_count": 5,
   "metadata": {},
   "outputs": [
    {
     "name": "stdout",
     "output_type": "stream",
     "text": [
      "1/1 [==============================] - 1s 815ms/step - loss: 5.3876 - binary_accuracy: 0.9000\n"
     ]
    },
    {
     "data": {
      "text/plain": [
       "[5.387553691864014, 0.8999999761581421]"
      ]
     },
     "execution_count": 5,
     "metadata": {},
     "output_type": "execute_result"
    }
   ],
   "source": [
    "laeeb.evaluate(man_test)"
   ]
  },
  {
   "cell_type": "code",
   "execution_count": 15,
   "metadata": {},
   "outputs": [
    {
     "name": "stdout",
     "output_type": "stream",
     "text": [
      "1/1 [==============================] - 0s 395ms/step\n"
     ]
    },
    {
     "data": {
      "text/plain": [
       "array([ 0,  1,  5, 13], dtype=int64)"
      ]
     },
     "execution_count": 15,
     "metadata": {},
     "output_type": "execute_result"
    }
   ],
   "source": [
    "np.argmax(laeeb.predict(man_test), axis=1)"
   ]
  },
  {
   "cell_type": "code",
   "execution_count": 7,
   "metadata": {},
   "outputs": [],
   "source": [
    "def test(img_path: str):\n",
    "    img = np.array(tf.keras.utils.load_img(img_path))\n",
    "    img = tf.keras.applications.vgg16.preprocess_input(img)\n",
    "    img = np.expand_dims(img, axis=0)\n",
    "    res = softmax(laeeb.predict(img))[0]\n",
    "    # plt.plot(res)\n",
    "    # plt.show()\n",
    "    return np.argmax(res);"
   ]
  },
  {
   "cell_type": "code",
   "execution_count": null,
   "metadata": {},
   "outputs": [],
   "source": [
    "mp = [];\n",
    "for i in range(20):\n",
    "    mp.append(np.mean([\n",
    "        test(\"./Dataset/test/\"+str(i)+\"/901.jpg\"),\n",
    "        test(\"./Dataset/test/\"+str(i)+\"/902.jpg\"),\n",
    "        test(\"./Dataset/test/\"+str(i)+\"/903.jpg\"),\n",
    "        test(\"./Dataset/test/\"+str(i)+\"/904.jpg\"),\n",
    "        test(\"./Dataset/test/\"+str(i)+\"/905.jpg\"),\n",
    "    ]));"
   ]
  },
  {
   "cell_type": "code",
   "execution_count": 9,
   "metadata": {},
   "outputs": [
    {
     "name": "stdout",
     "output_type": "stream",
     "text": [
      "[7.0, 9.2, 4.4, 5.6, 5.0, 13.2, 12.8, 7.4, 12.0, 17.6, 6.0, 10.4, 7.6, 10.4, 11.0, 6.4, 6.4, 9.8, 8.4, 7.0]\n"
     ]
    }
   ],
   "source": [
    "print(mp)"
   ]
  },
  {
   "cell_type": "code",
   "execution_count": 16,
   "metadata": {},
   "outputs": [
    {
     "name": "stdout",
     "output_type": "stream",
     "text": [
      "1/1 [==============================] - 0s 479ms/step\n"
     ]
    },
    {
     "data": {
      "image/png": "[encoded data removed]",
      "text/plain": [
       "<Figure size 640x480 with 1 Axes>"
      ]
     },
     "metadata": {},
     "output_type": "display_data"
    },
    {
     "data": {
      "text/plain": [
       "5"
      ]
     },
     "execution_count": 16,
     "metadata": {},
     "output_type": "execute_result"
    }
   ],
   "source": [
    "# test(\"./demo_data/mask/2/01.jpg\");\n",
    "test(\"./Dataset/test/2/1069.jpg\")"
   ]
  }
 ],
 "metadata": {
  "kernelspec": {
   "display_name": "Python 3",
   "language": "python",
   "name": "python3"
  },
  "language_info": {
   "codemirror_mode": {
    "name": "ipython",
    "version": 3
   },
   "file_extension": ".py",
   "mimetype": "text/x-python",
   "name": "python",
   "nbconvert_exporter": "python",
   "pygments_lexer": "ipython3",
   "version": "3.8.10"
  },
  "orig_nbformat": 4,
  "vscode": {
   "interpreter": {
    "hash": "fd6c014c9130c2ca28e508cbd320e5ee7127f51793d21ce8d03443646cef9b7a"
   }
  }
 },
 "nbformat": 4,
 "nbformat_minor": 2
}
